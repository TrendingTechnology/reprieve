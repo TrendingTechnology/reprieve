{
 "cells": [
  {
   "cell_type": "code",
   "execution_count": 1,
   "metadata": {},
   "outputs": [
    {
     "data": {
      "text/plain": [
       "<jaxlib.xla_extension.profiler.ProfilerServer at 0x7fec302c98b8>"
      ]
     },
     "execution_count": 1,
     "metadata": {},
     "output_type": "execute_result"
    }
   ],
   "source": [
    "import jax.profiler\n",
    "jax.profiler.start_server(9999)"
   ]
  },
  {
   "cell_type": "code",
   "execution_count": 3,
   "metadata": {},
   "outputs": [
    {
     "name": "stdout",
     "output_type": "stream",
     "text": [
      "   seed  samples  val_loss\n",
      "0   0.0   1000.0  0.303779\n",
      "1   1.0   1000.0  0.329764\n",
      "2   2.0   1000.0  0.294216\n",
      "3   3.0   1000.0  0.293008\n",
      "4   4.0   1000.0  0.347213\n",
      "5   0.0  54000.0  0.198730\n",
      "6   1.0  54000.0  0.209132\n",
      "7   2.0  54000.0  0.157123\n",
      "8   3.0  54000.0  0.155456\n",
      "9   4.0  54000.0  0.161582\n"
     ]
    }
   ],
   "source": [
    "%run main_demo_v2.py"
   ]
  },
  {
   "cell_type": "code",
   "execution_count": null,
   "metadata": {},
   "outputs": [],
   "source": []
  }
 ],
 "metadata": {
  "kernelspec": {
   "display_name": "Python 3",
   "language": "python",
   "name": "python3"
  },
  "language_info": {
   "codemirror_mode": {
    "name": "ipython",
    "version": 3
   },
   "file_extension": ".py",
   "mimetype": "text/x-python",
   "name": "python",
   "nbconvert_exporter": "python",
   "pygments_lexer": "ipython3",
   "version": "3.7.3"
  }
 },
 "nbformat": 4,
 "nbformat_minor": 2
}
