{
 "cells": [
  {
   "cell_type": "markdown",
   "metadata": {},
   "source": [
    "## Run on Colab\n",
    "This notebook is available on Colab to run right away: ksdaf\n",
    "\n",
    "## Dependencies\n",
    "To run this notebook please install the [Reprieve dependencies](https://github.com/willwhitney/reprieve#dependencies), in particular JAX with GPU support."
   ]
  },
  {
   "cell_type": "code",
   "execution_count": null,
   "metadata": {},
   "outputs": [],
   "source": [
    "!pip install git+https://github.com/willwhitney/reprieve"
   ]
  },
  {
   "cell_type": "code",
   "execution_count": 2,
   "metadata": {},
   "outputs": [],
   "source": [
    "import os\n",
    "import pandas as pd\n",
    "\n",
    "import jax\n",
    "import torchvision\n",
    "\n",
    "import reprieve\n",
    "from reprieve.representations import mnist_vae\n",
    "from reprieve.mnist_noisy_label import MNISTNoisyLabelDataset\n",
    "from reprieve.algorithms import mlp as alg"
   ]
  },
  {
   "cell_type": "code",
   "execution_count": 3,
   "metadata": {},
   "outputs": [
    {
     "name": "stdout",
     "output_type": "stream",
     "text": [
      "Downloading http://yann.lecun.com/exdb/mnist/train-images-idx3-ubyte.gz to ./data/MNIST/raw/train-images-idx3-ubyte.gz\n"
     ]
    },
    {
     "data": {
      "application/vnd.jupyter.widget-view+json": {
       "model_id": "80a3ed478a6441388df8c44526016fc0",
       "version_major": 2,
       "version_minor": 0
      },
      "text/plain": [
       "HBox(children=(IntProgress(value=1, bar_style='info', max=1), HTML(value='')))"
      ]
     },
     "metadata": {},
     "output_type": "display_data"
    },
    {
     "name": "stdout",
     "output_type": "stream",
     "text": [
      "\n",
      "Extracting ./data/MNIST/raw/train-images-idx3-ubyte.gz to ./data/MNIST/raw\n",
      "Downloading http://yann.lecun.com/exdb/mnist/train-labels-idx1-ubyte.gz to ./data/MNIST/raw/train-labels-idx1-ubyte.gz\n"
     ]
    },
    {
     "data": {
      "application/vnd.jupyter.widget-view+json": {
       "model_id": "7cffb490986743c38cc46e98f3332d5a",
       "version_major": 2,
       "version_minor": 0
      },
      "text/plain": [
       "HBox(children=(IntProgress(value=1, bar_style='info', max=1), HTML(value='')))"
      ]
     },
     "metadata": {},
     "output_type": "display_data"
    },
    {
     "name": "stdout",
     "output_type": "stream",
     "text": [
      "\n",
      "Extracting ./data/MNIST/raw/train-labels-idx1-ubyte.gz to ./data/MNIST/raw\n",
      "Downloading http://yann.lecun.com/exdb/mnist/t10k-images-idx3-ubyte.gz to ./data/MNIST/raw/t10k-images-idx3-ubyte.gz\n"
     ]
    },
    {
     "data": {
      "application/vnd.jupyter.widget-view+json": {
       "model_id": "2fbfa8868c274acba236b90caafbdf39",
       "version_major": 2,
       "version_minor": 0
      },
      "text/plain": [
       "HBox(children=(IntProgress(value=1, bar_style='info', max=1), HTML(value='')))"
      ]
     },
     "metadata": {},
     "output_type": "display_data"
    },
    {
     "name": "stdout",
     "output_type": "stream",
     "text": [
      "\n",
      "Extracting ./data/MNIST/raw/t10k-images-idx3-ubyte.gz to ./data/MNIST/raw\n",
      "Downloading http://yann.lecun.com/exdb/mnist/t10k-labels-idx1-ubyte.gz to ./data/MNIST/raw/t10k-labels-idx1-ubyte.gz\n"
     ]
    },
    {
     "data": {
      "application/vnd.jupyter.widget-view+json": {
       "model_id": "3560b784374242fe9117e4fa12182519",
       "version_major": 2,
       "version_minor": 0
      },
      "text/plain": [
       "HBox(children=(IntProgress(value=1, bar_style='info', max=1), HTML(value='')))"
      ]
     },
     "metadata": {},
     "output_type": "display_data"
    },
    {
     "name": "stdout",
     "output_type": "stream",
     "text": [
      "\n",
      "Extracting ./data/MNIST/raw/t10k-labels-idx1-ubyte.gz to ./data/MNIST/raw\n",
      "Processing...\n",
      "Done!\n"
     ]
    }
   ],
   "source": [
    "# make an MNIST dataset\n",
    "dataset_mnist = torchvision.datasets.MNIST(\n",
    "    './data', train=True, download=True,\n",
    "    transform=torchvision.transforms.Compose([\n",
    "        torchvision.transforms.ToTensor(),\n",
    "        torchvision.transforms.Normalize((0.1307,), (0.3081,))]))"
   ]
  },
  {
   "cell_type": "code",
   "execution_count": null,
   "metadata": {
    "scrolled": true
   },
   "outputs": [],
   "source": [
    "# make an MLP algorithm which takes inputs of shape (1, 28, 28)\n",
    "# and has 10 output classes\n",
    "init_fn, train_step_fn, eval_fn = alg.make_algorithm((1, 28, 28), 10)\n",
    "\n",
    "# these functions initialize the state of the model given a seed, \n",
    "# train on a batch of data, \n",
    "# and evaluate on a batch of data\n",
    "\n",
    "# construct a loss-data estimator and use it to compute the loss-data curve\n",
    "raw_loss_data_estimator = reprieve.LossDataEstimator(\n",
    "    init_fn, train_step_fn, eval_fn, dataset_mnist)\n",
    "raw_results = raw_loss_data_estimator.compute_curve()"
   ]
  },
  {
   "cell_type": "code",
   "execution_count": null,
   "metadata": {
    "scrolled": true
   },
   "outputs": [],
   "source": [
    "# train a VAE with latent dimension 8\n",
    "vae_repr = mnist_vae.build_repr(8)\n",
    "\n",
    "# make an MLP algorithm which takes inputs of shape (8,) to match the VAE\n",
    "# and has 10 output classes\n",
    "init_fn, train_step_fn, eval_fn = alg.make_algorithm((8,), 10)\n",
    "\n",
    "# construct a loss-data estimator and use it to compute the loss-data curve\n",
    "# pass the VAE as our representation_fn\n",
    "vae_loss_data_estimator = reprieve.LossDataEstimator(\n",
    "    init_fn, train_step_fn, eval_fn, dataset_mnist, \n",
    "    representation_fn=vae_repr)\n",
    "vae_results = vae_loss_data_estimator.compute_curve()"
   ]
  },
  {
   "cell_type": "code",
   "execution_count": 7,
   "metadata": {},
   "outputs": [],
   "source": [
    "# name our experiments and concatenate them\n",
    "raw_results['name'] = 'Raw'\n",
    "vae_results['name'] = 'VAE'\n",
    "\n",
    "outcome_df = pd.concat([\n",
    "    raw_results,\n",
    "    vae_results,\n",
    "])\n",
    "\n",
    "# pick some settings of n (training set size) and epsilon (loss tolerance)\n",
    "ns = [60, 20000]\n",
    "epsilons = [1, 0.2]"
   ]
  },
  {
   "cell_type": "code",
   "execution_count": 8,
   "metadata": {},
   "outputs": [
    {
     "data": {
      "text/html": [
       "\n",
       "<div id=\"altair-viz-fcd2f14b40674199a35bc788c0ac25e8\"></div>\n",
       "<script type=\"text/javascript\">\n",
       "  (function(spec, embedOpt){\n",
       "    let outputDiv = document.currentScript.previousElementSibling;\n",
       "    if (outputDiv.id !== \"altair-viz-fcd2f14b40674199a35bc788c0ac25e8\") {\n",
       "      outputDiv = document.getElementById(\"altair-viz-fcd2f14b40674199a35bc788c0ac25e8\");\n",
       "    }\n",
       "    const paths = {\n",
       "      \"vega\": \"https://cdn.jsdelivr.net/npm//vega@5?noext\",\n",
       "      \"vega-lib\": \"https://cdn.jsdelivr.net/npm//vega-lib?noext\",\n",
       "      \"vega-lite\": \"https://cdn.jsdelivr.net/npm//vega-lite@4.8.1?noext\",\n",
       "      \"vega-embed\": \"https://cdn.jsdelivr.net/npm//vega-embed@6?noext\",\n",
       "    };\n",
       "\n",
       "    function loadScript(lib) {\n",
       "      return new Promise(function(resolve, reject) {\n",
       "        var s = document.createElement('script');\n",
       "        s.src = paths[lib];\n",
       "        s.async = true;\n",
       "        s.onload = () => resolve(paths[lib]);\n",
       "        s.onerror = () => reject(`Error loading script: ${paths[lib]}`);\n",
       "        document.getElementsByTagName(\"head\")[0].appendChild(s);\n",
       "      });\n",
       "    }\n",
       "\n",
       "    function showError(err) {\n",
       "      outputDiv.innerHTML = `<div class=\"error\" style=\"color:red;\">${err}</div>`;\n",
       "      throw err;\n",
       "    }\n",
       "\n",
       "    function displayChart(vegaEmbed) {\n",
       "      vegaEmbed(outputDiv, spec, embedOpt)\n",
       "        .catch(err => showError(`Javascript Error: ${err.message}<br>This usually means there's a typo in your chart specification. See the javascript console for the full traceback.`));\n",
       "    }\n",
       "\n",
       "    if(typeof define === \"function\" && define.amd) {\n",
       "      requirejs.config({paths});\n",
       "      require([\"vega-embed\"], displayChart, err => showError(`Error loading script: ${err.message}`));\n",
       "    } else if (typeof vegaEmbed === \"function\") {\n",
       "      displayChart(vegaEmbed);\n",
       "    } else {\n",
       "      loadScript(\"vega\")\n",
       "        .then(() => loadScript(\"vega-lite\"))\n",
       "        .then(() => loadScript(\"vega-embed\"))\n",
       "        .catch(showError)\n",
       "        .then(() => displayChart(vegaEmbed));\n",
       "    }\n",
       "  })({\"config\": {\"view\": {\"height\": 500, \"width\": 600, \"strokeWidth\": 0, \"background\": \"white\"}, \"title\": {\"fontSize\": 24}, \"range\": {\"category\": {\"scheme\": \"set1\"}, \"ordinal\": {\"scheme\": \"set1\"}}, \"axis\": {\"titleFontSize\": 24, \"labelFontSize\": 16, \"grid\": false, \"domainWidth\": 5, \"domainColor\": \"333\", \"tickWidth\": 3, \"tickSize\": 9, \"tickCount\": 4, \"tickColor\": \"333\", \"tickOffset\": 0}, \"legend\": {\"titleFontSize\": 24, \"labelFontSize\": 16, \"labelLimit\": 0, \"titleLimit\": 0, \"orient\": \"top-right\", \"padding\": 10, \"titlePadding\": 10, \"rowPadding\": 5, \"fillColor\": \"white\", \"strokeColor\": \"black\", \"cornerRadius\": 0}, \"rule\": {\"size\": 3, \"color\": \"999\"}, \"line\": {\"size\": 5, \"opacity\": 0.4}}, \"layer\": [{\"data\": {\"name\": \"data-64f96570a24105573eefa65d1be8b276\"}, \"mark\": {\"type\": \"rule\", \"strokeDash\": [4, 4]}, \"encoding\": {\"x\": {\"type\": \"quantitative\", \"field\": \"x\"}}}, {\"data\": {\"name\": \"data-64f96570a24105573eefa65d1be8b276\"}, \"mark\": {\"type\": \"rule\", \"strokeDash\": [4, 4]}, \"encoding\": {\"y\": {\"type\": \"quantitative\", \"field\": \"y\"}}}, {\"data\": {\"name\": \"data-2627fd07f7feab96974ec6da21eead3c\"}, \"mark\": \"line\", \"encoding\": {\"color\": {\"type\": \"nominal\", \"field\": \"name\", \"legend\": null, \"title\": \"Representation\"}, \"x\": {\"type\": \"quantitative\", \"field\": \"samples\", \"scale\": {\"type\": \"log\"}, \"title\": \"Dataset size\"}, \"y\": {\"type\": \"quantitative\", \"aggregate\": \"mean\", \"field\": \"val_loss\", \"scale\": {\"type\": \"log\"}, \"title\": \"Validation loss\"}}, \"title\": \"Loss-data curve\"}, {\"data\": {\"name\": \"data-2627fd07f7feab96974ec6da21eead3c\"}, \"mark\": {\"type\": \"point\", \"opacity\": 1, \"size\": 80}, \"encoding\": {\"color\": {\"type\": \"nominal\", \"field\": \"name\", \"title\": \"Representation\"}, \"shape\": {\"type\": \"nominal\", \"field\": \"name\", \"title\": \"Representation\"}, \"tooltip\": [{\"type\": \"quantitative\", \"field\": \"samples\"}, {\"type\": \"nominal\", \"field\": \"name\"}], \"x\": {\"type\": \"quantitative\", \"field\": \"samples\", \"scale\": {\"type\": \"log\"}, \"title\": \"Dataset size\"}, \"y\": {\"type\": \"quantitative\", \"aggregate\": \"mean\", \"field\": \"val_loss\", \"scale\": {\"type\": \"log\"}, \"title\": \"Validation loss\"}}, \"title\": \"Loss-data curve\"}], \"resolve\": {\"scale\": {\"color\": \"independent\", \"shape\": \"independent\"}}, \"$schema\": \"https://vega.github.io/schema/vega-lite/v4.8.1.json\", \"datasets\": {\"data-64f96570a24105573eefa65d1be8b276\": [{\"x\": 68.0, \"y\": null}, {\"x\": 20782.0, \"y\": null}, {\"x\": null, \"y\": 1.0}, {\"x\": null, \"y\": 0.2}], \"data-2627fd07f7feab96974ec6da21eead3c\": [{\"seed\": 0.0, \"samples\": 10.0, \"val_loss\": 3.881502866744995, \"name\": \"Raw\"}, {\"seed\": 1.0, \"samples\": 10.0, \"val_loss\": 4.619574546813965, \"name\": \"Raw\"}, {\"seed\": 2.0, \"samples\": 10.0, \"val_loss\": 3.566603183746338, \"name\": \"Raw\"}, {\"seed\": 3.0, \"samples\": 10.0, \"val_loss\": 4.955665111541748, \"name\": \"Raw\"}, {\"seed\": 4.0, \"samples\": 10.0, \"val_loss\": 3.8714823722839355, \"name\": \"Raw\"}, {\"seed\": 0.0, \"samples\": 26.0, \"val_loss\": 2.771660566329956, \"name\": \"Raw\"}, {\"seed\": 1.0, \"samples\": 26.0, \"val_loss\": 3.3775227069854736, \"name\": \"Raw\"}, {\"seed\": 2.0, \"samples\": 26.0, \"val_loss\": 2.502622604370117, \"name\": \"Raw\"}, {\"seed\": 3.0, \"samples\": 26.0, \"val_loss\": 2.8522210121154785, \"name\": \"Raw\"}, {\"seed\": 4.0, \"samples\": 26.0, \"val_loss\": 2.0681653022766113, \"name\": \"Raw\"}, {\"seed\": 0.0, \"samples\": 68.0, \"val_loss\": 1.1812255382537842, \"name\": \"Raw\"}, {\"seed\": 1.0, \"samples\": 68.0, \"val_loss\": 1.08877694606781, \"name\": \"Raw\"}, {\"seed\": 2.0, \"samples\": 68.0, \"val_loss\": 1.6117526292800903, \"name\": \"Raw\"}, {\"seed\": 3.0, \"samples\": 68.0, \"val_loss\": 1.3700286149978638, \"name\": \"Raw\"}, {\"seed\": 4.0, \"samples\": 68.0, \"val_loss\": 1.1420328617095947, \"name\": \"Raw\"}, {\"seed\": 0.0, \"samples\": 176.0, \"val_loss\": 0.7197701930999756, \"name\": \"Raw\"}, {\"seed\": 1.0, \"samples\": 176.0, \"val_loss\": 0.7569600939750671, \"name\": \"Raw\"}, {\"seed\": 2.0, \"samples\": 176.0, \"val_loss\": 0.9196240305900574, \"name\": \"Raw\"}, {\"seed\": 3.0, \"samples\": 176.0, \"val_loss\": 0.9673871397972107, \"name\": \"Raw\"}, {\"seed\": 4.0, \"samples\": 176.0, \"val_loss\": 0.742215633392334, \"name\": \"Raw\"}, {\"seed\": 0.0, \"samples\": 456.0, \"val_loss\": 0.5612024068832397, \"name\": \"Raw\"}, {\"seed\": 1.0, \"samples\": 456.0, \"val_loss\": 0.5726149678230286, \"name\": \"Raw\"}, {\"seed\": 2.0, \"samples\": 456.0, \"val_loss\": 0.5402643084526062, \"name\": \"Raw\"}, {\"seed\": 3.0, \"samples\": 456.0, \"val_loss\": 0.6235352754592896, \"name\": \"Raw\"}, {\"seed\": 4.0, \"samples\": 456.0, \"val_loss\": 0.5719873309135437, \"name\": \"Raw\"}, {\"seed\": 0.0, \"samples\": 1185.0, \"val_loss\": 0.3950965106487274, \"name\": \"Raw\"}, {\"seed\": 1.0, \"samples\": 1185.0, \"val_loss\": 0.3938969373703003, \"name\": \"Raw\"}, {\"seed\": 2.0, \"samples\": 1185.0, \"val_loss\": 0.4215051531791687, \"name\": \"Raw\"}, {\"seed\": 3.0, \"samples\": 1185.0, \"val_loss\": 0.3993043899536133, \"name\": \"Raw\"}, {\"seed\": 4.0, \"samples\": 1185.0, \"val_loss\": 0.424947053194046, \"name\": \"Raw\"}, {\"seed\": 0.0, \"samples\": 3078.0, \"val_loss\": 0.25882959365844727, \"name\": \"Raw\"}, {\"seed\": 1.0, \"samples\": 3078.0, \"val_loss\": 0.27583685517311096, \"name\": \"Raw\"}, {\"seed\": 2.0, \"samples\": 3078.0, \"val_loss\": 0.2588236331939697, \"name\": \"Raw\"}, {\"seed\": 3.0, \"samples\": 3078.0, \"val_loss\": 0.2529682517051697, \"name\": \"Raw\"}, {\"seed\": 4.0, \"samples\": 3078.0, \"val_loss\": 0.25945883989334106, \"name\": \"Raw\"}, {\"seed\": 0.0, \"samples\": 7998.0, \"val_loss\": 0.16050097346305847, \"name\": \"Raw\"}, {\"seed\": 1.0, \"samples\": 7998.0, \"val_loss\": 0.16851705312728882, \"name\": \"Raw\"}, {\"seed\": 2.0, \"samples\": 7998.0, \"val_loss\": 0.17533071339130402, \"name\": \"Raw\"}, {\"seed\": 3.0, \"samples\": 7998.0, \"val_loss\": 0.16278132796287537, \"name\": \"Raw\"}, {\"seed\": 4.0, \"samples\": 7998.0, \"val_loss\": 0.17218992114067078, \"name\": \"Raw\"}, {\"seed\": 0.0, \"samples\": 20782.0, \"val_loss\": 0.10408070683479309, \"name\": \"Raw\"}, {\"seed\": 1.0, \"samples\": 20782.0, \"val_loss\": 0.12169729918241501, \"name\": \"Raw\"}, {\"seed\": 2.0, \"samples\": 20782.0, \"val_loss\": 0.11996094882488251, \"name\": \"Raw\"}, {\"seed\": 3.0, \"samples\": 20782.0, \"val_loss\": 0.1008942648768425, \"name\": \"Raw\"}, {\"seed\": 4.0, \"samples\": 20782.0, \"val_loss\": 0.11167692393064499, \"name\": \"Raw\"}, {\"seed\": 0.0, \"samples\": 54000.0, \"val_loss\": 0.08251733332872391, \"name\": \"Raw\"}, {\"seed\": 1.0, \"samples\": 54000.0, \"val_loss\": 0.08547097444534302, \"name\": \"Raw\"}, {\"seed\": 2.0, \"samples\": 54000.0, \"val_loss\": 0.0813586413860321, \"name\": \"Raw\"}, {\"seed\": 3.0, \"samples\": 54000.0, \"val_loss\": 0.07438934594392776, \"name\": \"Raw\"}, {\"seed\": 4.0, \"samples\": 54000.0, \"val_loss\": 0.0795755609869957, \"name\": \"Raw\"}, {\"seed\": 0.0, \"samples\": 10.0, \"val_loss\": 4.923320770263672, \"name\": \"VAE\"}, {\"seed\": 1.0, \"samples\": 10.0, \"val_loss\": 3.955447196960449, \"name\": \"VAE\"}, {\"seed\": 2.0, \"samples\": 10.0, \"val_loss\": 3.0747711658477783, \"name\": \"VAE\"}, {\"seed\": 3.0, \"samples\": 10.0, \"val_loss\": 5.0290632247924805, \"name\": \"VAE\"}, {\"seed\": 4.0, \"samples\": 10.0, \"val_loss\": 3.501314401626587, \"name\": \"VAE\"}, {\"seed\": 0.0, \"samples\": 26.0, \"val_loss\": 2.858576536178589, \"name\": \"VAE\"}, {\"seed\": 1.0, \"samples\": 26.0, \"val_loss\": 2.410937786102295, \"name\": \"VAE\"}, {\"seed\": 2.0, \"samples\": 26.0, \"val_loss\": 1.6780221462249756, \"name\": \"VAE\"}, {\"seed\": 3.0, \"samples\": 26.0, \"val_loss\": 0.9906094670295715, \"name\": \"VAE\"}, {\"seed\": 4.0, \"samples\": 26.0, \"val_loss\": 1.9139872789382935, \"name\": \"VAE\"}, {\"seed\": 0.0, \"samples\": 68.0, \"val_loss\": 0.5214225649833679, \"name\": \"VAE\"}, {\"seed\": 1.0, \"samples\": 68.0, \"val_loss\": 0.6059649586677551, \"name\": \"VAE\"}, {\"seed\": 2.0, \"samples\": 68.0, \"val_loss\": 0.8612892031669617, \"name\": \"VAE\"}, {\"seed\": 3.0, \"samples\": 68.0, \"val_loss\": 0.6663156151771545, \"name\": \"VAE\"}, {\"seed\": 4.0, \"samples\": 68.0, \"val_loss\": 0.5530107617378235, \"name\": \"VAE\"}, {\"seed\": 0.0, \"samples\": 176.0, \"val_loss\": 0.38896599411964417, \"name\": \"VAE\"}, {\"seed\": 1.0, \"samples\": 176.0, \"val_loss\": 0.47825175523757935, \"name\": \"VAE\"}, {\"seed\": 2.0, \"samples\": 176.0, \"val_loss\": 0.41429194808006287, \"name\": \"VAE\"}, {\"seed\": 3.0, \"samples\": 176.0, \"val_loss\": 0.43723538517951965, \"name\": \"VAE\"}, {\"seed\": 4.0, \"samples\": 176.0, \"val_loss\": 0.36683622002601624, \"name\": \"VAE\"}, {\"seed\": 0.0, \"samples\": 456.0, \"val_loss\": 0.34738948941230774, \"name\": \"VAE\"}, {\"seed\": 1.0, \"samples\": 456.0, \"val_loss\": 0.38629385828971863, \"name\": \"VAE\"}, {\"seed\": 2.0, \"samples\": 456.0, \"val_loss\": 0.2980120778083801, \"name\": \"VAE\"}, {\"seed\": 3.0, \"samples\": 456.0, \"val_loss\": 0.2829517126083374, \"name\": \"VAE\"}, {\"seed\": 4.0, \"samples\": 456.0, \"val_loss\": 0.30699872970581055, \"name\": \"VAE\"}, {\"seed\": 0.0, \"samples\": 1185.0, \"val_loss\": 0.25781482458114624, \"name\": \"VAE\"}, {\"seed\": 1.0, \"samples\": 1185.0, \"val_loss\": 0.23626142740249634, \"name\": \"VAE\"}, {\"seed\": 2.0, \"samples\": 1185.0, \"val_loss\": 0.23427537083625793, \"name\": \"VAE\"}, {\"seed\": 3.0, \"samples\": 1185.0, \"val_loss\": 0.2508080005645752, \"name\": \"VAE\"}, {\"seed\": 4.0, \"samples\": 1185.0, \"val_loss\": 0.24299578368663788, \"name\": \"VAE\"}, {\"seed\": 0.0, \"samples\": 3078.0, \"val_loss\": 0.17797128856182098, \"name\": \"VAE\"}, {\"seed\": 1.0, \"samples\": 3078.0, \"val_loss\": 0.17787733674049377, \"name\": \"VAE\"}, {\"seed\": 2.0, \"samples\": 3078.0, \"val_loss\": 0.16969621181488037, \"name\": \"VAE\"}, {\"seed\": 3.0, \"samples\": 3078.0, \"val_loss\": 0.16286127269268036, \"name\": \"VAE\"}, {\"seed\": 4.0, \"samples\": 3078.0, \"val_loss\": 0.17247533798217773, \"name\": \"VAE\"}, {\"seed\": 0.0, \"samples\": 7998.0, \"val_loss\": 0.11746015399694443, \"name\": \"VAE\"}, {\"seed\": 1.0, \"samples\": 7998.0, \"val_loss\": 0.11353788524866104, \"name\": \"VAE\"}, {\"seed\": 2.0, \"samples\": 7998.0, \"val_loss\": 0.13238002359867096, \"name\": \"VAE\"}, {\"seed\": 3.0, \"samples\": 7998.0, \"val_loss\": 0.11303120106458664, \"name\": \"VAE\"}, {\"seed\": 4.0, \"samples\": 7998.0, \"val_loss\": 0.12128330767154694, \"name\": \"VAE\"}, {\"seed\": 0.0, \"samples\": 20782.0, \"val_loss\": 0.09886681288480759, \"name\": \"VAE\"}, {\"seed\": 1.0, \"samples\": 20782.0, \"val_loss\": 0.10608310997486115, \"name\": \"VAE\"}, {\"seed\": 2.0, \"samples\": 20782.0, \"val_loss\": 0.10666561871767044, \"name\": \"VAE\"}, {\"seed\": 3.0, \"samples\": 20782.0, \"val_loss\": 0.10229689627885818, \"name\": \"VAE\"}, {\"seed\": 4.0, \"samples\": 20782.0, \"val_loss\": 0.10423789173364639, \"name\": \"VAE\"}, {\"seed\": 0.0, \"samples\": 54000.0, \"val_loss\": 0.09870367497205734, \"name\": \"VAE\"}, {\"seed\": 1.0, \"samples\": 54000.0, \"val_loss\": 0.10101741552352905, \"name\": \"VAE\"}, {\"seed\": 2.0, \"samples\": 54000.0, \"val_loss\": 0.10150884091854095, \"name\": \"VAE\"}, {\"seed\": 3.0, \"samples\": 54000.0, \"val_loss\": 0.10131315886974335, \"name\": \"VAE\"}, {\"seed\": 4.0, \"samples\": 54000.0, \"val_loss\": 0.09796260297298431, \"name\": \"VAE\"}]}}, {\"mode\": \"vega-lite\"});\n",
       "</script>"
      ],
      "text/plain": [
       "alt.LayerChart(...)"
      ]
     },
     "execution_count": 8,
     "metadata": {},
     "output_type": "execute_result"
    }
   ],
   "source": [
    "# plot the loss-data curves for our representations\n",
    "reprieve.render_curve(outcome_df, ns, epsilons)"
   ]
  },
  {
   "cell_type": "code",
   "execution_count": 9,
   "metadata": {},
   "outputs": [
    {
     "data": {
      "text/html": [
       "<div>\n",
       "<style scoped>\n",
       "    .dataframe tbody tr th:only-of-type {\n",
       "        vertical-align: middle;\n",
       "    }\n",
       "\n",
       "    .dataframe tbody tr th {\n",
       "        vertical-align: top;\n",
       "    }\n",
       "\n",
       "    .dataframe thead tr th {\n",
       "        text-align: left;\n",
       "    }\n",
       "</style>\n",
       "<table border=\"1\" class=\"dataframe\">\n",
       "  <thead>\n",
       "    <tr>\n",
       "      <th>Name</th>\n",
       "      <th>Raw</th>\n",
       "      <th>VAE</th>\n",
       "      <th>Raw</th>\n",
       "      <th>VAE</th>\n",
       "    </tr>\n",
       "    <tr>\n",
       "      <th>n</th>\n",
       "      <th>68.0</th>\n",
       "      <th>68.0</th>\n",
       "      <th>20782.0</th>\n",
       "      <th>20782.0</th>\n",
       "    </tr>\n",
       "  </thead>\n",
       "  <tbody>\n",
       "    <tr>\n",
       "      <th>Val loss</th>\n",
       "      <td>1.27876</td>\n",
       "      <td>0.641601</td>\n",
       "      <td>0.111662</td>\n",
       "      <td>0.10363</td>\n",
       "    </tr>\n",
       "    <tr>\n",
       "      <th>MDL</th>\n",
       "      <td>138.93</td>\n",
       "      <td>99.44</td>\n",
       "      <td>3432.78</td>\n",
       "      <td>2652.36</td>\n",
       "    </tr>\n",
       "    <tr>\n",
       "      <th>SDL, eps=1</th>\n",
       "      <td>&gt; 70.93</td>\n",
       "      <td>46.49</td>\n",
       "      <td>70.93</td>\n",
       "      <td>46.49</td>\n",
       "    </tr>\n",
       "    <tr>\n",
       "      <th>SDL, eps=0.2</th>\n",
       "      <td>&gt; 125.33</td>\n",
       "      <td>&gt; 85.84</td>\n",
       "      <td>563.8</td>\n",
       "      <td>176.49</td>\n",
       "    </tr>\n",
       "    <tr>\n",
       "      <th>eSC, eps=1</th>\n",
       "      <td>&gt; 68.0</td>\n",
       "      <td>68</td>\n",
       "      <td>176</td>\n",
       "      <td>68</td>\n",
       "    </tr>\n",
       "    <tr>\n",
       "      <th>eSC, eps=0.2</th>\n",
       "      <td>&gt; 68.0</td>\n",
       "      <td>&gt; 68.0</td>\n",
       "      <td>7998</td>\n",
       "      <td>3078</td>\n",
       "    </tr>\n",
       "  </tbody>\n",
       "</table>\n",
       "</div>"
      ],
      "text/plain": [
       "Name               Raw       VAE       Raw      VAE\n",
       "n              68.0      68.0      20782.0  20782.0\n",
       "Val loss       1.27876  0.641601  0.111662  0.10363\n",
       "MDL             138.93     99.44   3432.78  2652.36\n",
       "SDL, eps=1     > 70.93     46.49     70.93    46.49\n",
       "SDL, eps=0.2  > 125.33   > 85.84     563.8   176.49\n",
       "eSC, eps=1      > 68.0        68       176       68\n",
       "eSC, eps=0.2    > 68.0    > 68.0      7998     3078"
      ]
     },
     "execution_count": 9,
     "metadata": {},
     "output_type": "execute_result"
    }
   ],
   "source": [
    "# compute VA, MDL, SDL, and eSC for both representations\n",
    "metrics_df = reprieve.compute_metrics(outcome_df, ns, epsilons)\n",
    "metrics_df"
   ]
  },
  {
   "cell_type": "code",
   "execution_count": 12,
   "metadata": {},
   "outputs": [
    {
     "data": {
      "application/vnd.jupyter.widget-view+json": {
       "model_id": "fe090c0901ec4ec5949e75ba4b88bad0",
       "version_major": 2,
       "version_minor": 0
      },
      "text/plain": [
       "Output(layout=Layout(border='1px solid black'), outputs=({'output_type': 'stream', 'name': 'stdout', 'text': '…"
      ]
     },
     "metadata": {},
     "output_type": "display_data"
    }
   ],
   "source": [
    "# reprieve even generates LaTeX tables you can paste into a paper\n",
    "latex_text = reprieve.render_latex(metrics_df, display=True)"
   ]
  }
 ],
 "metadata": {
  "kernelspec": {
   "display_name": "Python 3",
   "language": "python",
   "name": "python3"
  },
  "language_info": {
   "codemirror_mode": {
    "name": "ipython",
    "version": 3
   },
   "file_extension": ".py",
   "mimetype": "text/x-python",
   "name": "python",
   "nbconvert_exporter": "python",
   "pygments_lexer": "ipython3",
   "version": "3.7.3"
  }
 },
 "nbformat": 4,
 "nbformat_minor": 2
}
